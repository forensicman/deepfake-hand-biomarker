{
 "cells": [
  {
   "cell_type": "code",
   "execution_count": null,
   "id": "5d78c821",
   "metadata": {},
   "outputs": [],
   "source": [
    "import os\n",
    "import pandas as pd\n",
    "import numpy as np\n",
    "import matplotlib.pyplot as plt\n",
    "\n",
    "from matplotlib.image import imread\n",
    "from tensorflow.keras.preprocessing.image import ImageDataGenerator\n",
    "from tensorflow.keras import Sequential\n",
    "from tensorflow.keras.layers import Activation, Dropout, Flatten, Dense, Conv2D, MaxPooling2D\n",
    "from tensorflow.keras.callbacks import EarlyStopping\n",
    "from keras import optimizers\n",
    "from tensorflow.keras.models import load_model, Model\n",
    "from tensorflow.keras.preprocessing import image\n",
    "from keras.applications.vgg16 import VGG16\n",
    "from keras.applications.vgg16 import preprocess_input\n",
    "from sklearn.metrics import classification_report,confusion_matrix\n",
    "\n",
    "import warnings\n",
    "warnings.filterwarnings('ignore')\n",
    "\n",
    "from timeit import default_timer as timer\n",
    "from datetime import timedelta"
   ]
  },
  {
   "cell_type": "code",
   "execution_count": null,
   "id": "c101cdd8",
   "metadata": {
    "scrolled": true
   },
   "outputs": [],
   "source": [
    "src_dir = os.path.join('C:\\\\Users\\\\username\\\\Projects\\\\project', 'hands')"
   ]
  },
  {
   "cell_type": "code",
   "execution_count": null,
   "id": "bdb582c5",
   "metadata": {},
   "outputs": [],
   "source": [
    "test_path = os.path.join(src_dir, 'test')\n",
    "train_path = os.path.join(src_dir, 'train')"
   ]
  },
  {
   "cell_type": "code",
   "execution_count": null,
   "id": "8f85faa9",
   "metadata": {},
   "outputs": [],
   "source": [
    "dimension1 = []\n",
    "dimension2 = []\n",
    "for image in os.listdir(os.path.join(test_path, 'real')):\n",
    "    \n",
    "    img = imread(os.path.join(test_path, 'real', image))\n",
    "    d1,d2,colors = img.shape\n",
    "    dimension1.append(d1)\n",
    "    dimension2.append(d2)"
   ]
  },
  {
   "cell_type": "code",
   "execution_count": null,
   "id": "2a9fb1b2",
   "metadata": {},
   "outputs": [],
   "source": [
    "img_shape = (140,130,3)"
   ]
  },
  {
   "cell_type": "code",
   "execution_count": null,
   "id": "d289c775",
   "metadata": {},
   "outputs": [],
   "source": [
    "image_generator = ImageDataGenerator(rotation_range=20, \n",
    "                               width_shift_range=0.10, \n",
    "                               height_shift_range=0.10, \n",
    "                               rescale=1/255, \n",
    "                               shear_range=0.1, \n",
    "                               zoom_range=0.2, \n",
    "                               horizontal_flip=True, \n",
    "                               vertical_flip=True, \n",
    "                               fill_mode='constant' \n",
    "                              )"
   ]
  },
  {
   "cell_type": "code",
   "execution_count": null,
   "id": "3aba7330",
   "metadata": {},
   "outputs": [],
   "source": [
    "vgg = VGG16(input_shape = img_shape, weights = 'imagenet', include_top = False)"
   ]
  },
  {
   "cell_type": "code",
   "execution_count": null,
   "id": "6e533ae0",
   "metadata": {},
   "outputs": [],
   "source": [
    "for layer in vgg.layers:\n",
    "    layer.trainable = False"
   ]
  },
  {
   "cell_type": "code",
   "execution_count": null,
   "id": "e92c050b",
   "metadata": {},
   "outputs": [],
   "source": [
    "flat_layer = Flatten()(vgg.output)\n",
    "pred = Dense(1, activation = 'sigmoid')(flat_layer)\n",
    "model = Model(inputs = vgg.input, outputs = pred)\n",
    "model.summary()"
   ]
  },
  {
   "cell_type": "code",
   "execution_count": null,
   "id": "7db7ce7d",
   "metadata": {},
   "outputs": [],
   "source": [
    "opt = optimizers.Adam(learning_rate=1e-04)\n",
    "model.compile(loss='binary_crossentropy',\n",
    "              optimizer=opt,\n",
    "              metrics=['accuracy'])"
   ]
  },
  {
   "cell_type": "code",
   "execution_count": null,
   "id": "6c38f67c",
   "metadata": {},
   "outputs": [],
   "source": [
    "early_stop = EarlyStopping(monitor='val_loss',patience=10)"
   ]
  },
  {
   "cell_type": "code",
   "execution_count": null,
   "id": "03ec5519",
   "metadata": {},
   "outputs": [],
   "source": [
    "batch_size = 256"
   ]
  },
  {
   "cell_type": "code",
   "execution_count": null,
   "id": "7da3e8a9",
   "metadata": {},
   "outputs": [],
   "source": [
    "train_image_gen = image_generator.flow_from_directory(train_path,\n",
    "                                               target_size=img_shape[:2],\n",
    "                                               color_mode='rgb',\n",
    "                                               batch_size=batch_size,\n",
    "                                               class_mode='binary')"
   ]
  },
  {
   "cell_type": "code",
   "execution_count": null,
   "id": "838dd0d3",
   "metadata": {},
   "outputs": [],
   "source": [
    "test_image_gen = image_generator.flow_from_directory(test_path,\n",
    "                                               target_size=img_shape[:2],\n",
    "                                               color_mode='rgb',\n",
    "                                               batch_size=batch_size,\n",
    "                                               class_mode='binary',shuffle=False)"
   ]
  },
  {
   "cell_type": "code",
   "execution_count": null,
   "id": "5116b888",
   "metadata": {},
   "outputs": [],
   "source": [
    "train_image_gen.class_indices"
   ]
  },
  {
   "cell_type": "code",
   "execution_count": null,
   "id": "f0ac00cc",
   "metadata": {},
   "outputs": [],
   "source": [
    "start = timer()"
   ]
  },
  {
   "cell_type": "code",
   "execution_count": null,
   "id": "6f858523",
   "metadata": {},
   "outputs": [],
   "source": [
    "results = model.fit_generator(train_image_gen,epochs=100,\n",
    "                              validation_data=test_image_gen,\n",
    "                             callbacks=[early_stop])"
   ]
  },
  {
   "cell_type": "code",
   "execution_count": null,
   "id": "c8a85a29",
   "metadata": {},
   "outputs": [],
   "source": [
    "end = timer()\n",
    "print(timedelta(seconds=end-start))"
   ]
  },
  {
   "cell_type": "code",
   "execution_count": null,
   "id": "b61f7df7",
   "metadata": {},
   "outputs": [],
   "source": [
    "model.save('hand_fake_detector_transfer_lerning.h5')"
   ]
  },
  {
   "cell_type": "code",
   "execution_count": null,
   "id": "6c7cfff4",
   "metadata": {},
   "outputs": [],
   "source": [
    "losses = pd.DataFrame(model.history.history)"
   ]
  },
  {
   "cell_type": "code",
   "execution_count": null,
   "id": "e9705c20",
   "metadata": {},
   "outputs": [],
   "source": [
    "losses[['loss','val_loss']].plot()"
   ]
  },
  {
   "cell_type": "code",
   "execution_count": null,
   "id": "f74de33b",
   "metadata": {},
   "outputs": [],
   "source": [
    "model =  load_model('hand_fake_detector_transfer_lerning.h5')"
   ]
  },
  {
   "cell_type": "code",
   "execution_count": null,
   "id": "3a5dcced",
   "metadata": {},
   "outputs": [],
   "source": [
    "test_image_gen.class_indices"
   ]
  },
  {
   "cell_type": "code",
   "execution_count": null,
   "id": "b1c6fb19",
   "metadata": {},
   "outputs": [],
   "source": [
    "pred_probabilities = model.predict_generator(test_image_gen)"
   ]
  },
  {
   "cell_type": "code",
   "execution_count": null,
   "id": "13ad9901",
   "metadata": {},
   "outputs": [],
   "source": [
    "predictions = pred_probabilities > 0.5"
   ]
  },
  {
   "cell_type": "code",
   "execution_count": null,
   "id": "936477ee",
   "metadata": {},
   "outputs": [],
   "source": [
    "print(classification_report(test_image_gen.classes,predictions))"
   ]
  },
  {
   "cell_type": "code",
   "execution_count": null,
   "id": "7f5ff2f5",
   "metadata": {
    "scrolled": true
   },
   "outputs": [],
   "source": [
    "confusion_matrix(test_image_gen.classes,predictions)"
   ]
  }
 ],
 "metadata": {
  "kernelspec": {
   "display_name": "Python 3 (ipykernel)",
   "language": "python",
   "name": "python3"
  },
  "language_info": {
   "codemirror_mode": {
    "name": "ipython",
    "version": 3
   },
   "file_extension": ".py",
   "mimetype": "text/x-python",
   "name": "python",
   "nbconvert_exporter": "python",
   "pygments_lexer": "ipython3",
   "version": "3.10.9"
  }
 },
 "nbformat": 4,
 "nbformat_minor": 5
}
